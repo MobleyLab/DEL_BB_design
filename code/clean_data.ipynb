{
 "cells": [
  {
   "cell_type": "code",
   "execution_count": 1,
   "metadata": {},
   "outputs": [],
   "source": [
    "import numpy as np\n",
    "import pandas as pd\n",
    "import pickle\n",
    "import matplotlib.pyplot as plt\n",
    "from rdkit import Chem, DataStructs\n",
    "from rdkit.ML.Cluster import Butina\n",
    "from rdkit.Chem import AllChem, PandasTools, SaltRemover, Fingerprints, Scaffolds\n",
    "from rdkit.Chem.Fingerprints import FingerprintMols\n",
    "from openeye import oechem, oeomega\n",
    "\n",
    "%matplotlib inline"
   ]
  },
  {
   "cell_type": "markdown",
   "metadata": {},
   "source": [
    "### Enamine Amine Building Block Data"
   ]
  },
  {
   "cell_type": "code",
   "execution_count": 2,
   "metadata": {},
   "outputs": [],
   "source": [
    "pamine = PandasTools.LoadSDF('input/Enamine_Amine_scaffoldsonly.sdf')\n",
    "pamine_df = pamine.drop(columns=['Structure No', 'IUPAC Name', 'MDL_Number', 'CAS', \n",
    "                                 'Stock_weight_G', 'URL', 'Class', 'Subclass',\n",
    "                                'Price_100mg_USD', 'Price_1g_USD', 'Mw', 'Molecule Name'])\n",
    "\n",
    "# Fix values in price column\n",
    "pamine_df.loc[~pamine_df['Price_250mg_USD'].str.isnumeric(), 'Price_250mg_USD'] = 10001\n",
    "pamine_df = pamine_df.rename(columns={'Price_250mg_USD': 'Price_250mg'})\n",
    "pamine_df['Price_250mg'] = [float(x) for x in pamine_df['Price_250mg']]"
   ]
  },
  {
   "cell_type": "code",
   "execution_count": 7,
   "metadata": {},
   "outputs": [],
   "source": [
    "def split_amine(SMILES):\n",
    "    i = 0\n",
    "    new_smi = SMILES.split('.')[i]\n",
    "    # Identify split molecule containing the amine group\n",
    "    while new_smi.find('N') == -1 and new_smi.find('n') == -1:\n",
    "        i += 1\n",
    "        new_smi = SMILES.split('.')[i]\n",
    "    return new_smi"
   ]
  },
  {
   "cell_type": "code",
   "execution_count": 4,
   "metadata": {},
   "outputs": [],
   "source": [
    "pg_dict = pickle.load(open('input/PG_SMILES.pkl', 'rb'))\n",
    "\n",
    "def has_pg(compound_SMILES, pg):\n",
    "    '''\n",
    "    Returns True if the SMILES string contains the protecting group of interest\n",
    "    '''\n",
    "    ss = oechem.OESubSearch(pg)\n",
    "    mol = oechem.OEGraphMol()\n",
    "    oechem.OESmilesToMol(mol, compound_SMILES)\n",
    "    oechem.OEPrepareSearch(mol, ss)\n",
    "    return ss.SingleMatch(mol)\n",
    "\n",
    "def deprotectGroup(compound_smi, pg_SMIRKS):\n",
    "    '''\n",
    "    Returns the SMILES of the deprotected compound after SMIRKS reaction. If the protecting group is not present\n",
    "    in the compound, the input SMILES is returned.\n",
    "    '''\n",
    "    libgen = oechem.OELibraryGen(pg_SMIRKS)\n",
    "    libgen.SetValenceCorrection(True)\n",
    "\n",
    "    ## Rewrite the SMILES to remove kekulization for Fmoc specifically\n",
    "    mol = oechem.OEGraphMol()\n",
    "    oechem.OESmilesToMol(mol, compound_smi)\n",
    "    rewrite_smi = oechem.OECreateIsoSmiString(mol)\n",
    "\n",
    "    new_mol = oechem.OEGraphMol()\n",
    "    oechem.OEParseSmiles(new_mol, rewrite_smi)\n",
    "    libgen.SetStartingMaterial(new_mol, 0)\n",
    "\n",
    "    if libgen.NumPossibleProducts() > 0:\n",
    "        for product in libgen.GetProducts():\n",
    "            new_smi = oechem.OECreateIsoSmiString(product)\n",
    "\n",
    "        ## If a different pattern than expected got caught by the query and split\n",
    "        ## we would prefer to just leave that compound as is\n",
    "        if '.' in new_smi:\n",
    "            return rewrite_smi\n",
    "        else:\n",
    "            return new_smi\n",
    "\n",
    "    return rewrite_smi"
   ]
  },
  {
   "cell_type": "code",
   "execution_count": 5,
   "metadata": {},
   "outputs": [],
   "source": [
    "# Find entries containing ions\n",
    "#pamine_df['split'] = pamine_df['Reagent 1'].apply(lambda smi: len(smi.split('.')))\n",
    "#pamine_df['split_SMI'] = pamine_df['Reagent 1'].apply(lambda smi: smi.split('.'))\n",
    "# pamine_ions = pamine_df.loc[pamine_df['split'] > 1].copy(deep=True)\n",
    "# pamine_ions['r1'] = [x[0] for x in pamine_ions['split_SMI']]\n",
    "# pamine_ions['r2'] = [x[1] for x in pamine_ions['split_SMI']]\n",
    "# set(pamine_ions['r2'])"
   ]
  },
  {
   "cell_type": "code",
   "execution_count": 6,
   "metadata": {},
   "outputs": [],
   "source": [
    "def sort_truncate(SMILES, junk_list):\n",
    "    # Pick longest substring that is not in the flagged list of solvents/ions\n",
    "    max_length = 0\n",
    "    longest_substring = ''\n",
    "    for s in SMILES.split('.'):\n",
    "        if s in junk_list:\n",
    "            pass\n",
    "        else:\n",
    "            if len(s) > max_length:\n",
    "                longest_substring = s\n",
    "                max_length = len(s)\n",
    "    return longest_substring"
   ]
  },
  {
   "cell_type": "code",
   "execution_count": 6,
   "metadata": {},
   "outputs": [],
   "source": [
    "# Clean entries containing ions\n",
    "pamine_df['BB_SMILES'] = pamine_df['Reagent 1'].apply(split_amine)\n",
    "pamine_df = pamine_df.drop(columns=['Reagent 1'])\n",
    "pamine_df = pamine_df.drop_duplicates(subset='BB_SMILES')\n",
    "\n",
    "pamine_df['mol_SMI'] = pamine_df['ROMol'].apply(Chem.MolToSmiles)\n",
    "\n",
    "junk_list = ['Cl', 'Br', 'CC(=O)O', 'O=C(O)C(F)(F)F', 'O=C(O)C(=O)O', 'I']\n",
    "pamine_df['truncate_SMILES'] = pamine_df['mol_SMI'].apply(lambda smi: sort_truncate(smi, junk_list))\n",
    "pamine_df = pamine_df.drop(columns=['ROMol', 'mol_SMI'])"
   ]
  },
  {
   "cell_type": "code",
   "execution_count": 7,
   "metadata": {},
   "outputs": [],
   "source": [
    "#pamine_df.to_csv('output/pamine_df.csv', index=False)"
   ]
  },
  {
   "cell_type": "markdown",
   "metadata": {},
   "source": [
    "### Enamine Primary and Secondary Fmoc amino acids"
   ]
  },
  {
   "cell_type": "markdown",
   "metadata": {},
   "source": [
    "#### Primary Amino Acids"
   ]
  },
  {
   "cell_type": "code",
   "execution_count": 8,
   "metadata": {},
   "outputs": [
    {
     "name": "stderr",
     "output_type": "stream",
     "text": [
      "RDKit WARNING: [12:07:36] skipping block at line 23051: 'BEGIN BOND'\n"
     ]
    }
   ],
   "source": [
    "fmoc_a1 = PandasTools.LoadSDF('input/Enamine_AAs_scaffoldsonly_primary_noacid.sdf')"
   ]
  },
  {
   "cell_type": "code",
   "execution_count": 9,
   "metadata": {
    "scrolled": false
   },
   "outputs": [],
   "source": [
    "fmoc_aa1 = fmoc_a1[['ID', 'Price_USD_250mg', 'Reagent 1', 'ROMol']].copy(deep=True)\n",
    "\n",
    "#Fix cost column\n",
    "fmoc_aa1 = fmoc_aa1.rename(columns={'Price_USD_250mg': 'Price_250mg'})\n",
    "unknown_char = fmoc_aa1['Price_250mg'].iloc[0][1]\n",
    "fmoc_aa1['Price_250mg'] = fmoc_aa1['Price_250mg'].str.replace(unknown_char, '')\n",
    "fmoc_aa1.loc[~fmoc_aa1['Price_250mg'].str.isnumeric(), 'Price_250mg'] = 10001\n",
    "fmoc_aa1['Price_250mg'] = [float(x) for x in fmoc_aa1['Price_250mg']]"
   ]
  },
  {
   "cell_type": "code",
   "execution_count": 10,
   "metadata": {},
   "outputs": [],
   "source": [
    "# Clean entries containing ions\n",
    "fmoc_aa1['BB_SMILES'] = fmoc_aa1['Reagent 1'].apply(lambda smi: sort_truncate(smi, junk_list))\n",
    "fmoc_aa1 = fmoc_aa1.drop(columns=['Reagent 1'])\n",
    "fmoc_aa1 = fmoc_aa1.drop_duplicates(subset='BB_SMILES')\n",
    "\n",
    "fmoc_aa1['mol_SMI'] = fmoc_aa1['ROMol'].apply(Chem.MolToSmiles)\n",
    "fmoc_aa1['truncate_SMILES'] = fmoc_aa1['mol_SMI'].apply(lambda smi: sort_truncate(smi, junk_list))\n",
    "fmoc_aa1 = fmoc_aa1.drop(columns=['ROMol', 'mol_SMI'])"
   ]
  },
  {
   "cell_type": "code",
   "execution_count": 11,
   "metadata": {},
   "outputs": [],
   "source": [
    "#fmoc_aa1.to_csv('output/pamino_acid_df.csv', index=False)"
   ]
  },
  {
   "cell_type": "markdown",
   "metadata": {},
   "source": [
    "#### Secondary Amino Acids"
   ]
  },
  {
   "cell_type": "code",
   "execution_count": 12,
   "metadata": {},
   "outputs": [],
   "source": [
    "fmoc_a2 = PandasTools.LoadSDF('input/Enamine_AAs_scaffoldsonly_secondary_noacid.sdf')"
   ]
  },
  {
   "cell_type": "code",
   "execution_count": 13,
   "metadata": {},
   "outputs": [],
   "source": [
    "fmoc_aa2 = fmoc_a2[['ID', 'Price_USD_250mg', 'Reagent 1', 'ROMol']].copy(deep=True)\n",
    "\n",
    "#Fix cost column\n",
    "fmoc_aa2 = fmoc_aa2.rename(columns={'Price_USD_250mg': 'Price_250mg'})\n",
    "fmoc_aa2['Price_250mg'] = fmoc_aa2['Price_250mg'].str.replace(unknown_char, '')\n",
    "fmoc_aa2.loc[~fmoc_aa2['Price_250mg'].str.isnumeric(), 'Price_250mg'] = 10001\n",
    "fmoc_aa2['Price_250mg'] = [float(x) for x in fmoc_aa2['Price_250mg']]"
   ]
  },
  {
   "cell_type": "code",
   "execution_count": 14,
   "metadata": {},
   "outputs": [],
   "source": [
    "# Clean entries containing ions\n",
    "fmoc_aa2['BB_SMILES'] = fmoc_aa2['Reagent 1'].apply(lambda smi: sort_truncate(smi, junk_list))\n",
    "fmoc_aa2 = fmoc_aa2.drop(columns=['Reagent 1'])\n",
    "fmoc_aa2 = fmoc_aa2.drop_duplicates(subset='BB_SMILES')\n",
    "\n",
    "fmoc_aa2['mol_SMI'] = fmoc_aa2['ROMol'].apply(Chem.MolToSmiles)\n",
    "fmoc_aa2['truncate_SMILES'] = fmoc_aa2['mol_SMI'].apply(lambda smi: sort_truncate(smi, junk_list))\n",
    "fmoc_aa2 = fmoc_aa2.drop(columns=['ROMol', 'mol_SMI'])"
   ]
  },
  {
   "cell_type": "code",
   "execution_count": 15,
   "metadata": {},
   "outputs": [
    {
     "name": "stdout",
     "output_type": "stream",
     "text": [
      "1084\n",
      "1084\n",
      "1084\n",
      "815\n"
     ]
    }
   ],
   "source": [
    "print(len(fmoc_aa2['BB_SMILES']))\n",
    "print(len(set(fmoc_aa2['BB_SMILES'])))\n",
    "\n",
    "print(len(fmoc_aa2['truncate_SMILES']))\n",
    "print(len(set(fmoc_aa2['truncate_SMILES'])))"
   ]
  },
  {
   "cell_type": "code",
   "execution_count": 16,
   "metadata": {},
   "outputs": [],
   "source": [
    "#fmoc_aa2.to_csv('output/samino_acid_df.csv', index=False)"
   ]
  },
  {
   "cell_type": "markdown",
   "metadata": {},
   "source": [
    "### Carboxylic acid building blocks"
   ]
  },
  {
   "cell_type": "code",
   "execution_count": 28,
   "metadata": {},
   "outputs": [
    {
     "name": "stderr",
     "output_type": "stream",
     "text": [
      "RDKit WARNING: [16:53:15] Skipping unrecognized collection type at line 428159: MDLV30/STERAC1 BONDS=(1 8)\n",
      "RDKit WARNING: [16:53:29] skipping block at line 943702: 'BEGIN BOND'\n"
     ]
    }
   ],
   "source": [
    "cooh = PandasTools.LoadSDF('input/Enamine_Acid_scaffoldsonly.sdf')\n",
    "#cooh = PandasTools.LoadSDF('input/Enamine_Acid_scaffoldsonly.sdf')"
   ]
  },
  {
   "cell_type": "code",
   "execution_count": 29,
   "metadata": {},
   "outputs": [],
   "source": [
    "cooh['fmoc'] = cooh['Reagent 1'].apply(lambda smi: has_pg(smi, pg_dict['fmoc']))\n",
    "cooh['nboc'] = cooh['Reagent 1'].apply(lambda smi: has_pg(smi, pg_dict['nboc']))"
   ]
  },
  {
   "cell_type": "code",
   "execution_count": 30,
   "metadata": {},
   "outputs": [
    {
     "name": "stdout",
     "output_type": "stream",
     "text": [
      "0\n",
      "0\n"
     ]
    }
   ],
   "source": [
    "print(len(cooh.loc[cooh['nboc'] == True]))\n",
    "print(len(cooh.loc[cooh['fmoc'] == True]))"
   ]
  },
  {
   "cell_type": "code",
   "execution_count": 31,
   "metadata": {},
   "outputs": [
    {
     "data": {
      "text/html": [
       "<div>\n",
       "<style scoped>\n",
       "    .dataframe tbody tr th:only-of-type {\n",
       "        vertical-align: middle;\n",
       "    }\n",
       "\n",
       "    .dataframe tbody tr th {\n",
       "        vertical-align: top;\n",
       "    }\n",
       "\n",
       "    .dataframe thead th {\n",
       "        text-align: right;\n",
       "    }\n",
       "</style>\n",
       "<table border=\"1\" class=\"dataframe\">\n",
       "  <thead>\n",
       "    <tr style=\"text-align: right;\">\n",
       "      <th></th>\n",
       "      <th>Molecule Name</th>\n",
       "      <th>Structure No</th>\n",
       "      <th>Mw</th>\n",
       "      <th>ID</th>\n",
       "      <th>IUPAC Name</th>\n",
       "      <th>MDL_Number</th>\n",
       "      <th>CAS</th>\n",
       "      <th>URL</th>\n",
       "      <th>Stock_weight_G</th>\n",
       "      <th>Price_100mg_USD</th>\n",
       "      <th>Price_250mg_USD</th>\n",
       "      <th>Price_1g_USD</th>\n",
       "      <th>Class</th>\n",
       "      <th>Subclass</th>\n",
       "      <th>Reagent 1</th>\n",
       "      <th>ROMol</th>\n",
       "      <th>fmoc</th>\n",
       "      <th>nboc</th>\n",
       "    </tr>\n",
       "  </thead>\n",
       "  <tbody>\n",
       "    <tr>\n",
       "      <th>0</th>\n",
       "      <td>EN300-56168</td>\n",
       "      <td>1</td>\n",
       "      <td>186.59</td>\n",
       "      <td>EN300-56168</td>\n",
       "      <td>4-chloro-2-methoxybenzoic acid</td>\n",
       "      <td>MFCD00002532</td>\n",
       "      <td>57479-70-6</td>\n",
       "      <td>https://www.enaminestore.com/catalog/EN300-56168</td>\n",
       "      <td>10</td>\n",
       "      <td>19</td>\n",
       "      <td>19</td>\n",
       "      <td>26</td>\n",
       "      <td>CarboxylicAcids</td>\n",
       "      <td>Aromatic_Acids</td>\n",
       "      <td>COc1cc(ccc1C(=O)O)Cl</td>\n",
       "      <td><img data-content=\"rdkit/molecule\" src=\"data:image/png;base64,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\" alt=\"Mol\"/></td>\n",
       "      <td>False</td>\n",
       "      <td>False</td>\n",
       "    </tr>\n",
       "  </tbody>\n",
       "</table>\n",
       "</div>"
      ],
      "text/plain": [
       "  Molecule Name Structure No      Mw           ID  \\\n",
       "0   EN300-56168            1  186.59  EN300-56168   \n",
       "\n",
       "                       IUPAC Name    MDL_Number         CAS  \\\n",
       "0  4-chloro-2-methoxybenzoic acid  MFCD00002532  57479-70-6   \n",
       "\n",
       "                                                URL Stock_weight_G  \\\n",
       "0  https://www.enaminestore.com/catalog/EN300-56168             10   \n",
       "\n",
       "  Price_100mg_USD Price_250mg_USD Price_1g_USD            Class  \\\n",
       "0              19              19           26  CarboxylicAcids   \n",
       "\n",
       "         Subclass             Reagent 1  \\\n",
       "0  Aromatic_Acids  COc1cc(ccc1C(=O)O)Cl   \n",
       "\n",
       "                                               ROMol   fmoc   nboc  \n",
       "0  <img data-content=\"rdkit/molecule\" src=\"data:i...  False  False  "
      ]
     },
     "execution_count": 31,
     "metadata": {},
     "output_type": "execute_result"
    }
   ],
   "source": [
    "cooh.head(1)"
   ]
  },
  {
   "cell_type": "code",
   "execution_count": 33,
   "metadata": {},
   "outputs": [],
   "source": [
    "cooh_df = cooh[['ID', 'Price_250mg_USD', 'Reagent 1', 'ROMol']].copy(deep=True)\n",
    "#Fix cost column\n",
    "cooh_df = cooh_df.rename(columns={'Price_250mg_USD': 'Price_250mg'})\n",
    "#cooh_df['Price_250mg'] = cooh_df['Price_250mg'].str.replace(unknown_char, '')\n",
    "cooh_df.loc[~cooh_df['Price_250mg'].str.isnumeric(), 'Price_250mg'] = 10001\n",
    "cooh_df['Price_250mg'] = [float(x) for x in cooh_df['Price_250mg']]"
   ]
  },
  {
   "cell_type": "code",
   "execution_count": 34,
   "metadata": {},
   "outputs": [],
   "source": [
    "junk_list_cooh = ['Cl', 'Br', 'C(=O)(C(F)(F)F)O', 'O', '[Br-]', '[Cl-]', '[I-]', 'N',\n",
    "                 'OS(=O)(=O)[O-]', 'I']\n",
    "\n",
    "# Clean entries containing ions\n",
    "cooh_df['BB_SMILES'] = cooh_df['Reagent 1'].apply(lambda smi: sort_truncate(smi, junk_list_cooh))\n",
    "cooh_df = cooh_df.drop(columns=['Reagent 1'])\n",
    "cooh_df = cooh_df.drop_duplicates(subset='BB_SMILES')"
   ]
  },
  {
   "cell_type": "code",
   "execution_count": 35,
   "metadata": {},
   "outputs": [],
   "source": [
    "junk_list_cooh_mols = ['Cl', 'Br', 'FC(F)F', '[Br-]', '[Cl-]']\n",
    "\n",
    "cooh_df['mol_SMI'] = cooh_df['ROMol'].apply(Chem.MolToSmiles)\n",
    "cooh_df['truncate_SMILES'] = cooh_df['mol_SMI'].apply(lambda smi: sort_truncate(smi, junk_list_cooh_mols))\n",
    "cooh_df = cooh_df.drop(columns=['ROMol', 'mol_SMI'])\n",
    "cooh_df = cooh_df.loc[cooh_df['BB_SMILES'] != '']"
   ]
  },
  {
   "cell_type": "code",
   "execution_count": 36,
   "metadata": {},
   "outputs": [
    {
     "name": "stdout",
     "output_type": "stream",
     "text": [
      "31091\n",
      "31091\n",
      "31091\n",
      "23687\n"
     ]
    }
   ],
   "source": [
    "print(len(cooh_df['BB_SMILES']))\n",
    "print(len(set(cooh_df['BB_SMILES'])))\n",
    "\n",
    "print(len(cooh_df['truncate_SMILES']))\n",
    "print(len(set(cooh_df['truncate_SMILES'])))"
   ]
  },
  {
   "cell_type": "code",
   "execution_count": 41,
   "metadata": {},
   "outputs": [],
   "source": [
    "#cooh_df.to_csv('output/cooh_df.csv', index=False)"
   ]
  },
  {
   "cell_type": "code",
   "execution_count": 42,
   "metadata": {},
   "outputs": [
    {
     "data": {
      "text/html": [
       "<div>\n",
       "<style scoped>\n",
       "    .dataframe tbody tr th:only-of-type {\n",
       "        vertical-align: middle;\n",
       "    }\n",
       "\n",
       "    .dataframe tbody tr th {\n",
       "        vertical-align: top;\n",
       "    }\n",
       "\n",
       "    .dataframe thead th {\n",
       "        text-align: right;\n",
       "    }\n",
       "</style>\n",
       "<table border=\"1\" class=\"dataframe\">\n",
       "  <thead>\n",
       "    <tr style=\"text-align: right;\">\n",
       "      <th></th>\n",
       "      <th>truncate_SMILES</th>\n",
       "      <th>BB_SMILES</th>\n",
       "    </tr>\n",
       "  </thead>\n",
       "  <tbody>\n",
       "    <tr>\n",
       "      <th>22391</th>\n",
       "      <td>[N-]=[N+]=NC1CCCCC1</td>\n",
       "      <td>9</td>\n",
       "    </tr>\n",
       "    <tr>\n",
       "      <th>21813</th>\n",
       "      <td>OC1CCCCC1</td>\n",
       "      <td>9</td>\n",
       "    </tr>\n",
       "    <tr>\n",
       "      <th>7436</th>\n",
       "      <td>CCc1cccc(OC)c1</td>\n",
       "      <td>9</td>\n",
       "    </tr>\n",
       "    <tr>\n",
       "      <th>5367</th>\n",
       "      <td>CCCc1ccccc1</td>\n",
       "      <td>9</td>\n",
       "    </tr>\n",
       "    <tr>\n",
       "      <th>22834</th>\n",
       "      <td>c1ccc(C2CC2)cc1</td>\n",
       "      <td>9</td>\n",
       "    </tr>\n",
       "    <tr>\n",
       "      <th>...</th>\n",
       "      <td>...</td>\n",
       "      <td>...</td>\n",
       "    </tr>\n",
       "    <tr>\n",
       "      <th>8727</th>\n",
       "      <td>CN1CCN(S(=O)(=O)c2ccccc2)CC1</td>\n",
       "      <td>1</td>\n",
       "    </tr>\n",
       "    <tr>\n",
       "      <th>8726</th>\n",
       "      <td>CN1CCN(N=O)CC1</td>\n",
       "      <td>1</td>\n",
       "    </tr>\n",
       "    <tr>\n",
       "      <th>8725</th>\n",
       "      <td>CN1CCN(Cc2nccs2)CC1</td>\n",
       "      <td>1</td>\n",
       "    </tr>\n",
       "    <tr>\n",
       "      <th>8724</th>\n",
       "      <td>CN1CCN(Cc2ccno2)CC1</td>\n",
       "      <td>1</td>\n",
       "    </tr>\n",
       "    <tr>\n",
       "      <th>23686</th>\n",
       "      <td>c1snnc1C1CCC1</td>\n",
       "      <td>1</td>\n",
       "    </tr>\n",
       "  </tbody>\n",
       "</table>\n",
       "<p>23687 rows × 2 columns</p>\n",
       "</div>"
      ],
      "text/plain": [
       "                    truncate_SMILES  BB_SMILES\n",
       "22391           [N-]=[N+]=NC1CCCCC1          9\n",
       "21813                     OC1CCCCC1          9\n",
       "7436                 CCc1cccc(OC)c1          9\n",
       "5367                    CCCc1ccccc1          9\n",
       "22834               c1ccc(C2CC2)cc1          9\n",
       "...                             ...        ...\n",
       "8727   CN1CCN(S(=O)(=O)c2ccccc2)CC1          1\n",
       "8726                 CN1CCN(N=O)CC1          1\n",
       "8725            CN1CCN(Cc2nccs2)CC1          1\n",
       "8724            CN1CCN(Cc2ccno2)CC1          1\n",
       "23686                 c1snnc1C1CCC1          1\n",
       "\n",
       "[23687 rows x 2 columns]"
      ]
     },
     "execution_count": 42,
     "metadata": {},
     "output_type": "execute_result"
    }
   ],
   "source": [
    "cooh_df.groupby(['truncate_SMILES'], as_index=False)['BB_SMILES'].nunique().sort_values(by='BB_SMILES', ascending=False)"
   ]
  },
  {
   "cell_type": "code",
   "execution_count": 44,
   "metadata": {},
   "outputs": [
    {
     "data": {
      "text/html": [
       "<div>\n",
       "<style scoped>\n",
       "    .dataframe tbody tr th:only-of-type {\n",
       "        vertical-align: middle;\n",
       "    }\n",
       "\n",
       "    .dataframe tbody tr th {\n",
       "        vertical-align: top;\n",
       "    }\n",
       "\n",
       "    .dataframe thead th {\n",
       "        text-align: right;\n",
       "    }\n",
       "</style>\n",
       "<table border=\"1\" class=\"dataframe\">\n",
       "  <thead>\n",
       "    <tr style=\"text-align: right;\">\n",
       "      <th></th>\n",
       "      <th>ID</th>\n",
       "      <th>Price_250mg</th>\n",
       "      <th>BB_SMILES</th>\n",
       "      <th>truncate_SMILES</th>\n",
       "    </tr>\n",
       "  </thead>\n",
       "  <tbody>\n",
       "    <tr>\n",
       "      <th>13202</th>\n",
       "      <td>EN300-26100</td>\n",
       "      <td>19.0</td>\n",
       "      <td>C1CCC(CC1)(C(=O)O)O</td>\n",
       "      <td>OC1CCCCC1</td>\n",
       "    </tr>\n",
       "    <tr>\n",
       "      <th>14351</th>\n",
       "      <td>EN300-151572</td>\n",
       "      <td>40.0</td>\n",
       "      <td>C1CC(CC(C1)O)C(=O)O</td>\n",
       "      <td>OC1CCCCC1</td>\n",
       "    </tr>\n",
       "    <tr>\n",
       "      <th>16660</th>\n",
       "      <td>EN300-6499500</td>\n",
       "      <td>216.0</td>\n",
       "      <td>C1CC[C@H]([C@@H](C1)C(=O)O)O</td>\n",
       "      <td>OC1CCCCC1</td>\n",
       "    </tr>\n",
       "    <tr>\n",
       "      <th>18824</th>\n",
       "      <td>EN300-7327426</td>\n",
       "      <td>487.0</td>\n",
       "      <td>C1CC[C@@H]([C@H](C1)C(=O)O)O</td>\n",
       "      <td>OC1CCCCC1</td>\n",
       "    </tr>\n",
       "    <tr>\n",
       "      <th>19062</th>\n",
       "      <td>EN300-252062</td>\n",
       "      <td>431.0</td>\n",
       "      <td>C1C[C@@H](C[C@@H](C1)O)C(=O)O</td>\n",
       "      <td>OC1CCCCC1</td>\n",
       "    </tr>\n",
       "    <tr>\n",
       "      <th>25773</th>\n",
       "      <td>EN300-150592</td>\n",
       "      <td>113.0</td>\n",
       "      <td>C1CCC(C(C1)C(=O)O)O</td>\n",
       "      <td>OC1CCCCC1</td>\n",
       "    </tr>\n",
       "    <tr>\n",
       "      <th>28247</th>\n",
       "      <td>EN300-97465</td>\n",
       "      <td>637.0</td>\n",
       "      <td>C1CC[C@H]([C@H](C1)C(=O)O)O</td>\n",
       "      <td>OC1CCCCC1</td>\n",
       "    </tr>\n",
       "    <tr>\n",
       "      <th>29772</th>\n",
       "      <td>EN300-51638</td>\n",
       "      <td>19.0</td>\n",
       "      <td>C1CC(CCC1C(=O)O)O</td>\n",
       "      <td>OC1CCCCC1</td>\n",
       "    </tr>\n",
       "    <tr>\n",
       "      <th>31297</th>\n",
       "      <td>EN300-270314</td>\n",
       "      <td>637.0</td>\n",
       "      <td>C1CC[C@@H]([C@@H](C1)C(=O)O)O</td>\n",
       "      <td>OC1CCCCC1</td>\n",
       "    </tr>\n",
       "  </tbody>\n",
       "</table>\n",
       "</div>"
      ],
      "text/plain": [
       "                  ID  Price_250mg                      BB_SMILES  \\\n",
       "13202    EN300-26100         19.0            C1CCC(CC1)(C(=O)O)O   \n",
       "14351   EN300-151572         40.0            C1CC(CC(C1)O)C(=O)O   \n",
       "16660  EN300-6499500        216.0   C1CC[C@H]([C@@H](C1)C(=O)O)O   \n",
       "18824  EN300-7327426        487.0   C1CC[C@@H]([C@H](C1)C(=O)O)O   \n",
       "19062   EN300-252062        431.0  C1C[C@@H](C[C@@H](C1)O)C(=O)O   \n",
       "25773   EN300-150592        113.0            C1CCC(C(C1)C(=O)O)O   \n",
       "28247    EN300-97465        637.0    C1CC[C@H]([C@H](C1)C(=O)O)O   \n",
       "29772    EN300-51638         19.0              C1CC(CCC1C(=O)O)O   \n",
       "31297   EN300-270314        637.0  C1CC[C@@H]([C@@H](C1)C(=O)O)O   \n",
       "\n",
       "      truncate_SMILES  \n",
       "13202       OC1CCCCC1  \n",
       "14351       OC1CCCCC1  \n",
       "16660       OC1CCCCC1  \n",
       "18824       OC1CCCCC1  \n",
       "19062       OC1CCCCC1  \n",
       "25773       OC1CCCCC1  \n",
       "28247       OC1CCCCC1  \n",
       "29772       OC1CCCCC1  \n",
       "31297       OC1CCCCC1  "
      ]
     },
     "execution_count": 44,
     "metadata": {},
     "output_type": "execute_result"
    }
   ],
   "source": [
    "cooh_df.loc[cooh_df['truncate_SMILES'] == 'OC1CCCCC1']"
   ]
  },
  {
   "cell_type": "code",
   "execution_count": 45,
   "metadata": {},
   "outputs": [
    {
     "data": {
      "image/png": "[encoded data removed]",
      "text/plain": [
       "<IPython.core.display.Image object>"
      ]
     },
     "execution_count": 45,
     "metadata": {},
     "output_type": "execute_result"
    }
   ],
   "source": [
    "mols = [Chem.MolFromSmiles(smi) for smi in cooh_df.loc[cooh_df['truncate_SMILES'] == 'OC1CCCCC1', 'BB_SMILES']]\n",
    "\n",
    "Chem.Draw.MolsToGridImage(mols)"
   ]
  },
  {
   "cell_type": "code",
   "execution_count": null,
   "metadata": {},
   "outputs": [],
   "source": [
    "# # the list for the dataframe\n",
    "# combined_dist_mat = []\n",
    "# fps = list(merged_df['fp'])\n",
    "# # compare all fp pairwise without duplicates\n",
    "# for i in range(1, len(merged_df)): # -1 so the last fp will not be used\n",
    "#     s = DataStructs.BulkTanimotoSimilarity(fps[i], fps[:i]) # +1 compare with the next to the last fp\n",
    "#     # collect the SMILES and values\n",
    "#     for m in range(len(s)):\n",
    "#         combined_dist_mat.append(1-s[m])"
   ]
  },
  {
   "cell_type": "code",
   "execution_count": null,
   "metadata": {},
   "outputs": [],
   "source": [
    "# tri = np.zeros((len(merged_df), len(merged_df)), dtype=np.half)\n",
    "# np.fill_diagonal(tri, 0)\n",
    "# idx, col = np.tril_indices(len(merged_df), k=-1)\n",
    "# tri[idx, col] = combined_dist_mat"
   ]
  },
  {
   "cell_type": "code",
   "execution_count": null,
   "metadata": {},
   "outputs": [],
   "source": [
    "#tri[col, idx] = combined_dist_mat"
   ]
  },
  {
   "cell_type": "code",
   "execution_count": null,
   "metadata": {},
   "outputs": [],
   "source": [
    "#np.save('pamine_fmoc_dist_mat.npy', tri)"
   ]
  }
 ],
 "metadata": {
  "kernelspec": {
   "display_name": "rdkit_env",
   "language": "python",
   "name": "rdkit_env"
  },
  "language_info": {
   "codemirror_mode": {
    "name": "ipython",
    "version": 3
   },
   "file_extension": ".py",
   "mimetype": "text/x-python",
   "name": "python",
   "nbconvert_exporter": "python",
   "pygments_lexer": "ipython3",
   "version": "3.7.9"
  }
 },
 "nbformat": 4,
 "nbformat_minor": 4
}
